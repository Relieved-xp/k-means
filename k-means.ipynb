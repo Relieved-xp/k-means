{
 "cells": [
  {
   "cell_type": "markdown",
   "metadata": {},
   "source": [
    "k-means聚类\n",
    "\n",
    "创建k个点作为初始的质心点（随机选择）\n",
    "\n",
    "当任意一个点的簇分配结果发生改变时\n",
    "\n",
    "对数据集中的每一个数据点\n",
    "\n",
    "对每一个质心\n",
    "\n",
    "计算质心与数据点的距离\n",
    "\n",
    "将数据点分配到距离最近的簇\n",
    "\n",
    "对每一个簇，计算簇中所有点的均值，并将均值作为质心"
   ]
  },
  {
   "cell_type": "code",
   "execution_count": 1,
   "metadata": {},
   "outputs": [],
   "source": [
    "import numpy as np\n",
    "import matplotlib.pyplot as plt\n",
    "\n",
    "points = np.array([\n",
    "    [2,2,8,5,7,6,1,4,3,1,4,6,9,1],\n",
    "    [10,5,4,8,5,4,2,9,10,2,5,7,2,1]\n",
    "])\n",
    "\n",
    "points_center = np.array([\n",
    "        [2, 5, 1],\n",
    "        [10, 8, 2]\n",
    "    ], dtype = float)\n"
   ]
  },
  {
   "cell_type": "code",
   "execution_count": 2,
   "metadata": {},
   "outputs": [],
   "source": [
    "def getDistance(x, y, x1, y1):\n",
    "    dis = np.sqrt((x1-x)*(x1-x)+(y1-y)*(y1-y))\n",
    "    return dis"
   ]
  },
  {
   "cell_type": "code",
   "execution_count": 3,
   "metadata": {
    "scrolled": true
   },
   "outputs": [
    {
     "name": "stdout",
     "output_type": "stream",
     "text": [
      "[0.0, 2.0, 1.0, 1.0, 1.0, 1.0, 2.0, 1.0, 0.0, 2.0, 1.0, 1.0, 1.0, 2.0]\n",
      "[0.0, 2.0, 1.0, 1.0, 1.0, 1.0, 2.0, 0.0, 0.0, 2.0, 1.0, 1.0, 1.0, 2.0]\n",
      "[0.0, 2.0, 1.0, 0.0, 1.0, 1.0, 2.0, 0.0, 0.0, 2.0, 1.0, 1.0, 1.0, 2.0]\n",
      "[0.0, 2.0, 1.0, 0.0, 1.0, 1.0, 2.0, 0.0, 0.0, 2.0, 1.0, 1.0, 1.0, 2.0]\n"
     ]
    }
   ],
   "source": [
    "\n",
    "points_last_res = []\n",
    "\n",
    "while(True):\n",
    "    \n",
    "    points_res = []\n",
    "\n",
    "    points_type = np.zeros((points.shape[1], 2), dtype = float)\n",
    "\n",
    "    ##辨别各个点到质心距离并分类\n",
    "\n",
    "    for i in range(points.shape[1]):\n",
    "        x1 = points[0][i]\n",
    "        y1 = points[1][i]\n",
    "        min_dis = 9999\n",
    "        min_pos = 0\n",
    "        for j in range(points_center.shape[1]):\n",
    "            x = points_center[0][j]\n",
    "            y = points_center[1][j]\n",
    "            dis = getDistance(x, y, x1, y1)\n",
    "            if(dis < min_dis):\n",
    "                min_dis = dis\n",
    "                min_pos = j\n",
    "        points_type[i][0] = min_pos\n",
    "        points_type[i][1] = min_dis\n",
    "    for i in range(points.shape[1]):\n",
    "        points_res.append(points_type[i][0])\n",
    "    print(points_res)\n",
    "    \n",
    "    #循环控制：本次分类与上次一致时结束循环\n",
    "    if(points_last_res == points_res):\n",
    "        break;\n",
    "    else:\n",
    "        points_last_res = points_res\n",
    "\n",
    "    \n",
    "    #重新选择质心\n",
    "\n",
    "    for i in range(points_center.shape[1]):\n",
    "        sumx = 0\n",
    "        sumy = 0\n",
    "        coun = 0\n",
    "        for j in range(points_type.shape[0]):\n",
    "            if(i == points_type[j][0]):\n",
    "                sumx += points[0][j]\n",
    "                sumy += points[1][j]\n",
    "                coun = coun + 1\n",
    "        points_center[0, i] = sumx/coun\n",
    "        points_center[1, i] = sumy/coun\n"
   ]
  },
  {
   "cell_type": "code",
   "execution_count": 4,
   "metadata": {},
   "outputs": [
    {
     "data": {
      "image/png": "[encoded data removed]",
      "text/plain": [
       "<Figure size 432x288 with 1 Axes>"
      ]
     },
     "metadata": {
      "needs_background": "light"
     },
     "output_type": "display_data"
    }
   ],
   "source": [
    "#绘图\n",
    "\n",
    "plt.rcParams['axes.unicode_minus'] = False\n",
    "\n",
    "plt.xlabel('X')\n",
    "plt.xlabel('y')\n",
    "plt.xlim(xmax=12,xmin=0)\n",
    "plt.ylim(ymax=12,ymin=0)\n",
    "\n",
    "for i in range(points_type.shape[0]):\n",
    "    if(points_type[i][0] == 0):\n",
    "        plt.scatter(points[0][i], points[1][i], c='b')\n",
    "    if(points_type[i][0] == 1):\n",
    "        plt.scatter(points[0][i], points[1][i], c='r')\n",
    "    if(points_type[i][0] == 2):\n",
    "        plt.scatter(points[0][i], points[1][i], c='g')\n",
    "for j in range(points_center.shape[1]):\n",
    "    plt.scatter(points_center[0][j], points_center[1][j], marker='x')\n"
   ]
  }
 ],
 "metadata": {
  "kernelspec": {
   "display_name": "Python 3",
   "language": "python",
   "name": "python3"
  },
  "language_info": {
   "codemirror_mode": {
    "name": "ipython",
    "version": 3
   },
   "file_extension": ".py",
   "mimetype": "text/x-python",
   "name": "python",
   "nbconvert_exporter": "python",
   "pygments_lexer": "ipython3",
   "version": "3.8.5"
  }
 },
 "nbformat": 4,
 "nbformat_minor": 4
}
